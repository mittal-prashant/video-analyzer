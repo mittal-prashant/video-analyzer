{
 "cells": [
  {
   "attachments": {},
   "cell_type": "markdown",
   "metadata": {},
   "source": [
    "# Video Analysis\n",
    "\n",
    "##### Author: Prashant Mittal"
   ]
  },
  {
   "attachments": {},
   "cell_type": "markdown",
   "metadata": {},
   "source": [
    "---"
   ]
  },
  {
   "attachments": {},
   "cell_type": "markdown",
   "metadata": {},
   "source": [
    "### Models and Dataset\n",
    "\n",
    "In this notebook, I have implemented two types of architectures for video analysis:\n",
    "* CNN + LSTM (ConvLSTM2D)\n",
    "* EfficientNet.\n",
    "\n",
    "For training the models, I utilized the UCF101 dataset, which contains a collection of videos classified into 101 different action classes. The dataset consists of a total of 13,320 videos. However, I specifically selected videos from only 5 types of actions for training. If you prefer, you can explore training with the full dataset or choose a subset of actions that you are interested in.\n",
    "\n",
    "Please note that the UCF101 dataset can be accessed from this Kaggle [link](https://www.kaggle.com/datasets/pevogam/ucf101/download?datasetVersionNumber=1).\n",
    "\n",
    "Extract the zip inside a \"input\" folder."
   ]
  },
  {
   "attachments": {},
   "cell_type": "markdown",
   "metadata": {},
   "source": [
    "---"
   ]
  },
  {
   "attachments": {},
   "cell_type": "markdown",
   "metadata": {},
   "source": [
    "### CNN + LSTM (ConvLSTM2D)"
   ]
  },
  {
   "attachments": {},
   "cell_type": "markdown",
   "metadata": {},
   "source": [
    "#### Import Packages"
   ]
  },
  {
   "cell_type": "code",
   "execution_count": 1,
   "metadata": {},
   "outputs": [],
   "source": [
    "import numpy as np\n",
    "import pandas as pd\n",
    "import os\n",
    "os.environ['TF_CPP_MIN_LOG_LEVEL'] = '3'\n",
    "import matplotlib.pyplot as plt\n",
    "import pandas as pd\n",
    "from tensorflow.keras.models import Sequential\n",
    "from tensorflow.keras.layers import *\n",
    "import numpy as np\n",
    "import os\n",
    "import cv2\n",
    "from sklearn.model_selection import train_test_split\n",
    "from sklearn.metrics import accuracy_score, confusion_matrix\n",
    "from tensorflow.keras.utils import to_categorical\n",
    "import itertools\n",
    "from tensorflow.keras.callbacks import EarlyStopping"
   ]
  },
  {
   "attachments": {},
   "cell_type": "markdown",
   "metadata": {},
   "source": [
    "#### Lables File and Dataset Path"
   ]
  },
  {
   "cell_type": "code",
   "execution_count": 2,
   "metadata": {},
   "outputs": [],
   "source": [
    "label_data = pd.read_csv(\"input/UCF101TrainTestSplits-RecognitionTask/ucfTrainTestlist/classInd.txt\", sep=' ', header=None)\n",
    "label_data.columns=['index', 'labels']\n",
    "label_data = label_data.drop(['index'], axis=1)\n",
    "\n",
    "path=[]\n",
    "for label in label_data.labels.values:\n",
    "    path.append('input/UCF101/UCF-101/'+label+\"/\")"
   ]
  },
  {
   "attachments": {},
   "cell_type": "markdown",
   "metadata": {},
   "source": [
    "#### Feature Extractor and Video Loader"
   ]
  },
  {
   "cell_type": "code",
   "execution_count": 3,
   "metadata": {},
   "outputs": [],
   "source": [
    "def feature_extraction(video_path):\n",
    "    width = 60\n",
    "    height = 60\n",
    "    sequence_length = 10\n",
    "    frames_list = []\n",
    "    video_reader = cv2.VideoCapture(video_path)\n",
    "    frame_count = int(video_reader.get(cv2.CAP_PROP_FRAME_COUNT))\n",
    "    skip_interval = max(int(frame_count / sequence_length), 1)\n",
    "    for counter in range(sequence_length):\n",
    "        video_reader.set(cv2.CAP_PROP_POS_FRAMES, counter * skip_interval)\n",
    "        ret, frame = video_reader.read()\n",
    "        if not ret:\n",
    "            break\n",
    "        frame = cv2.resize(frame, (height, width))\n",
    "        frame = frame / 255\n",
    "        frames_list.append(frame)\n",
    "    video_reader.release()\n",
    "    return frames_list\n",
    "\n",
    "def load_video(datasets):\n",
    "    label_index = 0\n",
    "    labels = []\n",
    "    images = []\n",
    "    for folder in datasets:\n",
    "        for file in os.listdir(folder):\n",
    "            video_path = os.path.join(folder, file)\n",
    "            frames_list = feature_extraction(video_path)\n",
    "            images.append(frames_list)\n",
    "            labels.append(label_index)\n",
    "        label_index += 1\n",
    "    return np.array(images, dtype='float16'), np.array(labels, dtype='int8')"
   ]
  },
  {
   "attachments": {},
   "cell_type": "markdown",
   "metadata": {},
   "source": [
    "The function \"feature_extraction\" extracts frames from a video file. It reads the video, calculates the total number of frames, and determines the interval for frame extraction based on the desired sequence length. It then iterates through the frames, resizing and normalizing them before adding them to a list. Finally, it releases the video reader and returns the list of frames.\n",
    "\n",
    "Sequence length is important as it determines the number of frames used to represent the video. It helps manage memory constraints, the length of the video, and the relevance of frames. By specifying a sequence length, we can balance the amount of information extracted and the computational resources required.\n",
    "\n",
    "The function \"load_video\" loads video files from datasets, extracts frames, and stores them along with their label indices. It iterates through the folders and video files, extracts frames using the feature_extraction function, and appends frames and labels to respective lists. Finally, it returns the frames and labels as numpy arrays in a tuple."
   ]
  },
  {
   "attachments": {},
   "cell_type": "markdown",
   "metadata": {},
   "source": [
    "#### Split Dataset into Train and Test"
   ]
  },
  {
   "cell_type": "code",
   "execution_count": 4,
   "metadata": {},
   "outputs": [
    {
     "data": {
      "text/plain": [
       "((605, 10, 60, 60, 3), (39, 10, 60, 60, 3), (605,), (39,))"
      ]
     },
     "execution_count": 4,
     "metadata": {},
     "output_type": "execute_result"
    }
   ],
   "source": [
    "images, labels = load_video(path[:5])\n",
    "\n",
    "x_train, x_test, y_train, y_test=train_test_split(images, labels, test_size=0.06, random_state=10)\n",
    "x_train.shape, x_test.shape, np.array(y_train).shape, np.array(y_test).shape"
   ]
  },
  {
   "attachments": {},
   "cell_type": "markdown",
   "metadata": {},
   "source": [
    "#### Building Model"
   ]
  },
  {
   "cell_type": "code",
   "execution_count": 5,
   "metadata": {},
   "outputs": [
    {
     "name": "stdout",
     "output_type": "stream",
     "text": [
      "Model: \"sequential\"\n",
      "_________________________________________________________________\n",
      " Layer (type)                Output Shape              Param #   \n",
      "=================================================================\n",
      " batch_normalization (BatchN  (None, 10, 60, 60, 3)    12        \n",
      " ormalization)                                                   \n",
      "                                                                 \n",
      " conv_lstm2d (ConvLSTM2D)    (None, 10, 58, 58, 16)    11008     \n",
      "                                                                 \n",
      " max_pooling3d (MaxPooling3D  (None, 10, 29, 29, 16)   0         \n",
      " )                                                               \n",
      "                                                                 \n",
      " time_distributed (TimeDistr  (None, 10, 29, 29, 16)   0         \n",
      " ibuted)                                                         \n",
      "                                                                 \n",
      " conv_lstm2d_1 (ConvLSTM2D)  (None, 10, 27, 27, 16)    18496     \n",
      "                                                                 \n",
      " batch_normalization_1 (Batc  (None, 10, 27, 27, 16)   64        \n",
      " hNormalization)                                                 \n",
      "                                                                 \n",
      " max_pooling3d_1 (MaxPooling  (None, 10, 14, 14, 16)   0         \n",
      " 3D)                                                             \n",
      "                                                                 \n",
      " time_distributed_1 (TimeDis  (None, 10, 14, 14, 16)   0         \n",
      " tributed)                                                       \n",
      "                                                                 \n",
      " conv_lstm2d_2 (ConvLSTM2D)  (None, 10, 12, 12, 16)    18496     \n",
      "                                                                 \n",
      " batch_normalization_2 (Batc  (None, 10, 12, 12, 16)   64        \n",
      " hNormalization)                                                 \n",
      "                                                                 \n",
      " max_pooling3d_2 (MaxPooling  (None, 10, 6, 6, 16)     0         \n",
      " 3D)                                                             \n",
      "                                                                 \n",
      " time_distributed_2 (TimeDis  (None, 10, 6, 6, 16)     0         \n",
      " tributed)                                                       \n",
      "                                                                 \n",
      " conv_lstm2d_3 (ConvLSTM2D)  (None, 10, 4, 4, 16)      18496     \n",
      "                                                                 \n",
      " batch_normalization_3 (Batc  (None, 10, 4, 4, 16)     64        \n",
      " hNormalization)                                                 \n",
      "                                                                 \n",
      " max_pooling3d_3 (MaxPooling  (None, 10, 2, 2, 16)     0         \n",
      " 3D)                                                             \n",
      "                                                                 \n",
      " time_distributed_3 (TimeDis  (None, 10, 2, 2, 16)     0         \n",
      " tributed)                                                       \n",
      "                                                                 \n",
      " flatten (Flatten)           (None, 640)               0         \n",
      "                                                                 \n",
      " dense (Dense)               (None, 4096)              2625536   \n",
      "                                                                 \n",
      " dense_1 (Dense)             (None, 5)                 20485     \n",
      "                                                                 \n",
      "=================================================================\n",
      "Total params: 2,712,721\n",
      "Trainable params: 2,712,619\n",
      "Non-trainable params: 102\n",
      "_________________________________________________________________\n"
     ]
    }
   ],
   "source": [
    "model = Sequential()\n",
    "\n",
    "model.add(BatchNormalization(momentum=0.8, input_shape=(x_train.shape[1],x_train.shape[2], x_train.shape[3], 3)))\n",
    "model.add(ConvLSTM2D(filters = 16, kernel_size=(3,3), activation='LeakyReLU', data_format='channels_last', return_sequences=True, recurrent_dropout=0.2))\n",
    "model.add(MaxPooling3D(pool_size=(1,2,2), padding='same', data_format='channels_last'))\n",
    "model.add(TimeDistributed(Dropout(0.2)))\n",
    "\n",
    "model.add(ConvLSTM2D(filters = 16, kernel_size=(3,3), activation='LeakyReLU', data_format='channels_last', return_sequences=True, recurrent_dropout=0.2))\n",
    "model.add(BatchNormalization(momentum=0.8))\n",
    "model.add(MaxPooling3D(pool_size=(1,2,2), padding='same', data_format='channels_last'))\n",
    "model.add(TimeDistributed(Dropout(0.2)))\n",
    "\n",
    "model.add(ConvLSTM2D(filters = 16, kernel_size=(3,3), activation='LeakyReLU', data_format='channels_last', return_sequences=True, recurrent_dropout=0.2))\n",
    "model.add(BatchNormalization(momentum=0.8))\n",
    "model.add(MaxPooling3D(pool_size=(1,2,2), padding='same', data_format='channels_last'))\n",
    "model.add(TimeDistributed(Dropout(0.3)))\n",
    "\n",
    "model.add(ConvLSTM2D(filters = 16, kernel_size=(3,3), activation='LeakyReLU', data_format='channels_last', return_sequences=True, recurrent_dropout=0.2))\n",
    "model.add(BatchNormalization(momentum=0.8))\n",
    "model.add(MaxPooling3D(pool_size=(1,2,2), padding='same', data_format='channels_last'))\n",
    "model.add(TimeDistributed(Dropout(0.3)))\n",
    "\n",
    "model.add(Flatten())\n",
    "\n",
    "model.add(Dense(4096,activation=\"relu\"))\n",
    "    \n",
    "model.add(Dense(5, activation='softmax'))\n",
    "model.summary()"
   ]
  },
  {
   "attachments": {},
   "cell_type": "markdown",
   "metadata": {},
   "source": [
    "The Convolutional Long Short-Term Memory (ConvLSTM) model is used for video classification. It includes layers such as ConvLSTM2D, MaxPooling3D, Dropout, BatchNormalization, and Dense.\n",
    "\n",
    "The input is a sequence of video frames. The model applies convolutional filters and LSTM algorithm to process sequential information. MaxPooling3D layers downsample the data, Dropout layers prevent overfitting, and BatchNormalization layers normalize the activities of previous layers.\n",
    "\n",
    "The model ends with a Flatten layer, followed by two Dense layers. The first Dense layer has 4096 units with ReLU activation, and the second Dense layer has 5 units with softmax activation for classification.\n",
    "\n",
    "Overall, the ConvLSTM model extracts features from video frames and uses LSTM to model temporal dependencies, enabling video classification."
   ]
  },
  {
   "cell_type": "code",
   "execution_count": 6,
   "metadata": {},
   "outputs": [],
   "source": [
    "model.compile(loss='categorical_crossentropy', optimizer='adam', metrics='accuracy')"
   ]
  },
  {
   "attachments": {},
   "cell_type": "markdown",
   "metadata": {},
   "source": [
    "#### Train Model with EarlyStopping"
   ]
  },
  {
   "cell_type": "code",
   "execution_count": 7,
   "metadata": {},
   "outputs": [
    {
     "name": "stdout",
     "output_type": "stream",
     "text": [
      "Epoch 1/50\n",
      "19/19 [==============================] - 87s 4s/step - loss: 3.0029 - accuracy: 0.3917 - val_loss: 2.1926 - val_accuracy: 0.3077\n",
      "Epoch 2/50\n",
      "19/19 [==============================] - 83s 4s/step - loss: 1.2815 - accuracy: 0.6000 - val_loss: 1.0668 - val_accuracy: 0.6410\n",
      "Epoch 3/50\n",
      "19/19 [==============================] - 79s 4s/step - loss: 0.8823 - accuracy: 0.7008 - val_loss: 0.6419 - val_accuracy: 0.6923\n",
      "Epoch 4/50\n",
      "19/19 [==============================] - 78s 4s/step - loss: 0.7170 - accuracy: 0.7488 - val_loss: 0.6802 - val_accuracy: 0.6667\n",
      "Epoch 5/50\n",
      "19/19 [==============================] - 77s 4s/step - loss: 0.6386 - accuracy: 0.7934 - val_loss: 0.3572 - val_accuracy: 0.8462\n",
      "Epoch 6/50\n",
      "19/19 [==============================] - 77s 4s/step - loss: 0.4195 - accuracy: 0.8347 - val_loss: 0.3240 - val_accuracy: 0.9231\n",
      "Epoch 7/50\n",
      "19/19 [==============================] - 78s 4s/step - loss: 0.3306 - accuracy: 0.8777 - val_loss: 0.2572 - val_accuracy: 0.8974\n",
      "Epoch 8/50\n",
      "19/19 [==============================] - 77s 4s/step - loss: 0.2474 - accuracy: 0.8893 - val_loss: 0.2830 - val_accuracy: 0.8718\n",
      "Epoch 9/50\n",
      "19/19 [==============================] - 77s 4s/step - loss: 0.2296 - accuracy: 0.9223 - val_loss: 0.2147 - val_accuracy: 0.8974\n",
      "Epoch 10/50\n",
      "19/19 [==============================] - 78s 4s/step - loss: 0.2039 - accuracy: 0.9207 - val_loss: 0.2723 - val_accuracy: 0.8462\n",
      "Epoch 11/50\n",
      "19/19 [==============================] - 77s 4s/step - loss: 0.2024 - accuracy: 0.9372 - val_loss: 0.2490 - val_accuracy: 0.9231\n",
      "Epoch 12/50\n",
      "19/19 [==============================] - 78s 4s/step - loss: 0.1560 - accuracy: 0.9554 - val_loss: 0.2377 - val_accuracy: 0.8974\n",
      "Epoch 13/50\n",
      "19/19 [==============================] - 78s 4s/step - loss: 0.1058 - accuracy: 0.9603 - val_loss: 0.2019 - val_accuracy: 0.9231\n",
      "Epoch 14/50\n",
      "19/19 [==============================] - 77s 4s/step - loss: 0.1305 - accuracy: 0.9521 - val_loss: 0.5522 - val_accuracy: 0.8205\n",
      "Epoch 15/50\n",
      "19/19 [==============================] - 78s 4s/step - loss: 0.1349 - accuracy: 0.9471 - val_loss: 0.3772 - val_accuracy: 0.8462\n",
      "Epoch 16/50\n",
      "19/19 [==============================] - 78s 4s/step - loss: 0.0989 - accuracy: 0.9620 - val_loss: 0.2393 - val_accuracy: 0.8718\n",
      "Epoch 17/50\n",
      "19/19 [==============================] - 77s 4s/step - loss: 0.0795 - accuracy: 0.9736 - val_loss: 0.3087 - val_accuracy: 0.9231\n",
      "Epoch 18/50\n",
      "19/19 [==============================] - 77s 4s/step - loss: 0.1024 - accuracy: 0.9719 - val_loss: 0.0757 - val_accuracy: 1.0000\n",
      "Epoch 19/50\n",
      "19/19 [==============================] - 77s 4s/step - loss: 0.1039 - accuracy: 0.9653 - val_loss: 0.6078 - val_accuracy: 0.9231\n",
      "Epoch 20/50\n",
      "19/19 [==============================] - 77s 4s/step - loss: 0.1108 - accuracy: 0.9587 - val_loss: 0.2383 - val_accuracy: 0.8974\n",
      "Epoch 21/50\n",
      "19/19 [==============================] - 77s 4s/step - loss: 0.1212 - accuracy: 0.9669 - val_loss: 0.2569 - val_accuracy: 0.9231\n",
      "Epoch 22/50\n",
      "19/19 [==============================] - 77s 4s/step - loss: 0.0599 - accuracy: 0.9769 - val_loss: 0.1723 - val_accuracy: 0.9231\n",
      "Epoch 23/50\n",
      "19/19 [==============================] - 77s 4s/step - loss: 0.0671 - accuracy: 0.9752 - val_loss: 0.4790 - val_accuracy: 0.9231\n"
     ]
    }
   ],
   "source": [
    "es = EarlyStopping(monitor='val_loss', patience=5, mode='min', restore_best_weights=True)\n",
    "history = model.fit(x_train, to_categorical(y_train), batch_size=32, epochs=50, validation_data=(x_test, to_categorical(y_test)), callbacks=[es])"
   ]
  },
  {
   "attachments": {},
   "cell_type": "markdown",
   "metadata": {},
   "source": [
    "The EarlyStopping callback function is used to monitor the validation loss during model training and stop the training process if the validation loss does not improve for a certain number of epochs.\n",
    "\n",
    "The callback function takes parameters such as monitor, which specifies the quantity to be monitored (in this case, the validation loss), patience, which determines the number of epochs to wait before stopping training if the validation loss doesn't improve, mode, which specifies whether the monitored quantity should be minimized or maximized, and restore_best_weights, which determines whether to restore the model weights to the best (lowest validation loss) after training has stopped.\n",
    "\n",
    "For example, if we use this EarlyStopping callback function in training a model, it will monitor the validation loss at each epoch and stop training if the validation loss doesn't improve for 5 epochs. If restore_best_weights is set to True, it will also restore the model weights to the best (lowest validation loss) after training has stopped."
   ]
  },
  {
   "attachments": {},
   "cell_type": "markdown",
   "metadata": {},
   "source": [
    "#### Accuracy Graph and Test accuracy"
   ]
  },
  {
   "cell_type": "code",
   "execution_count": 8,
   "metadata": {},
   "outputs": [
    {
     "data": {
      "image/png": "[encoded data removed]",
      "text/plain": [
       "<Figure size 1300x500 with 1 Axes>"
      ]
     },
     "metadata": {},
     "output_type": "display_data"
    },
    {
     "name": "stdout",
     "output_type": "stream",
     "text": [
      "2/2 [==============================] - 1s 128ms/step\n",
      "Accuary: 1.0\n"
     ]
    }
   ],
   "source": [
    "plt.figure(figsize=(13,5))\n",
    "plt.title(\"Accuracy vs Epochs\")\n",
    "plt.plot(history.history['accuracy'], label='Train Accuracy')\n",
    "plt.plot(history.history['val_accuracy'], label='Val Accuracy')\n",
    "plt.legend(loc='best')\n",
    "plt.show()\n",
    "\n",
    "y_pred = model.predict(x_test)\n",
    "predicted_classes=[]\n",
    "for i in range(len(y_test)):\n",
    "    predicted_classes.append(np.argmax(y_pred[i]))\n",
    "\n",
    "print(\"Accuary:\", accuracy_score(y_test, predicted_classes))"
   ]
  },
  {
   "attachments": {},
   "cell_type": "markdown",
   "metadata": {},
   "source": [
    "#### Confusion Matrix"
   ]
  },
  {
   "cell_type": "code",
   "execution_count": 9,
   "metadata": {},
   "outputs": [
    {
     "data": {
      "image/png": "[encoded data removed]",
      "text/plain": [
       "<Figure size 2500x2500 with 1 Axes>"
      ]
     },
     "metadata": {},
     "output_type": "display_data"
    }
   ],
   "source": [
    "plt.figure(figsize=(25,25))\n",
    "plt.title(\"Confusion matrix\")\n",
    "cm=confusion_matrix(y_test, predicted_classes)\n",
    "plt.imshow(cm)\n",
    "for i, j in itertools.product(range(cm.shape[0]), range(cm.shape[1])):\n",
    "    plt.text(j, i, cm[i, j], horizontalalignment=\"center\")\n",
    "plt.show()"
   ]
  },
  {
   "attachments": {},
   "cell_type": "markdown",
   "metadata": {},
   "source": [
    "---"
   ]
  },
  {
   "attachments": {},
   "cell_type": "markdown",
   "metadata": {},
   "source": [
    "### EfficientNet"
   ]
  },
  {
   "attachments": {},
   "cell_type": "markdown",
   "metadata": {},
   "source": [
    "#### Import Packages"
   ]
  },
  {
   "cell_type": "code",
   "execution_count": 10,
   "metadata": {},
   "outputs": [],
   "source": [
    "import glob\n",
    "import pandas as pd\n",
    "import cv2\n",
    "import numpy as np\n",
    "import random\n",
    "import tensorflow as tf\n",
    "from sklearn.model_selection import train_test_split\n",
    "from tqdm.notebook import tqdm\n",
    "import matplotlib.pyplot as plt"
   ]
  },
  {
   "attachments": {},
   "cell_type": "markdown",
   "metadata": {},
   "source": [
    "#### Format Frames and Video File Frames"
   ]
  },
  {
   "cell_type": "code",
   "execution_count": 11,
   "metadata": {},
   "outputs": [],
   "source": [
    "def format_frames(frame, output_size):\n",
    "  frame = tf.image.convert_image_dtype(frame, tf.float32)\n",
    "  frame = tf.image.resize_with_pad(frame, *output_size)\n",
    "  return frame\n",
    "\n",
    "def frames_from_video_file(video_path, n_frames, output_size=(224, 224), frame_step=15):\n",
    "  result = []\n",
    "  src = cv2.VideoCapture(str(video_path))\n",
    "  video_length = src.get(cv2.CAP_PROP_FRAME_COUNT)\n",
    "  need_length = 1 + (n_frames - 1) * frame_step\n",
    "\n",
    "  if need_length > video_length:\n",
    "    start = 0\n",
    "  else:\n",
    "    max_start = video_length - need_length\n",
    "    start = random.randint(0, max_start + 1)\n",
    "\n",
    "  src.set(cv2.CAP_PROP_POS_FRAMES, start)\n",
    "  ret, frame = src.read()\n",
    "  result.append(format_frames(frame, output_size))\n",
    "\n",
    "  for _ in range(n_frames - 1):\n",
    "    for _ in range(frame_step):\n",
    "      ret, frame = src.read()\n",
    "    if ret:\n",
    "      frame = format_frames(frame, output_size)\n",
    "      result.append(frame)\n",
    "    else:\n",
    "      result.append(np.zeros_like(result[0]))\n",
    "  src.release()\n",
    "  result = np.array(result)[..., [2, 1, 0]]\n",
    "\n",
    "  return result"
   ]
  },
  {
   "attachments": {},
   "cell_type": "markdown",
   "metadata": {},
   "source": [
    "The \"format_frames\" function takes an image frame and resizes it with padding using the specified output_size. It converts the image to float32 data type and performs the resizing operation.\n",
    "\n",
    "The \"frames_from_video_file\" function reads frames from a video file. It starts by setting the desired starting frame based on the n_frames and frame_step parameters. It reads the frames from the video, performs formatting using format_frames, and appends them to the result list. If there are fewer frames in the video, it pads the remaining frames with zeros. Finally, it converts the result to a NumPy array and adjusts the color channel order.\n",
    "\n",
    "The function returns a NumPy array of frames in the shape of (n_frames, height, width, channels)."
   ]
  },
  {
   "attachments": {},
   "cell_type": "markdown",
   "metadata": {},
   "source": [
    "#### Dataset Path and Classes"
   ]
  },
  {
   "cell_type": "code",
   "execution_count": 12,
   "metadata": {},
   "outputs": [],
   "source": [
    "classes = [\"ApplyEyeMakeup\", \"ApplyLipstick\", \"Archery\", \"BabyCrawling\", \"BalanceBeam\"]\n",
    "\n",
    "file_paths = []\n",
    "targets = []\n",
    "for i, cls in enumerate(classes):\n",
    "    sub_file_paths = glob.glob(f\"input/UCF101/UCF-101/{cls}/**.avi\")\n",
    "    file_paths += sub_file_paths\n",
    "    targets += [i] * len(sub_file_paths)"
   ]
  },
  {
   "attachments": {},
   "cell_type": "markdown",
   "metadata": {},
   "source": [
    "#### Extract Video Files Features"
   ]
  },
  {
   "cell_type": "code",
   "execution_count": 13,
   "metadata": {},
   "outputs": [
    {
     "data": {
      "application/vnd.jupyter.widget-view+json": {
       "model_id": "fe2514425aea496f8eb69350b3cb3588",
       "version_major": 2,
       "version_minor": 0
      },
      "text/plain": [
       "  0%|          | 0/644 [00:00<?, ?it/s]"
      ]
     },
     "metadata": {},
     "output_type": "display_data"
    }
   ],
   "source": [
    "features = []\n",
    "for file_path in tqdm(file_paths):\n",
    "    features.append(frames_from_video_file(file_path, n_frames = 10))\n",
    "features = np.array(features)"
   ]
  },
  {
   "attachments": {},
   "cell_type": "markdown",
   "metadata": {},
   "source": [
    "#### Split Dataset into Train and Test"
   ]
  },
  {
   "cell_type": "code",
   "execution_count": 14,
   "metadata": {},
   "outputs": [],
   "source": [
    "train_features, val_features, train_targets, val_targets = train_test_split(features, targets, test_size=0.2, random_state=42)\n",
    "train_ds = tf.data.Dataset.from_tensor_slices((train_features, train_targets)).shuffle(128).batch(32).cache().prefetch(tf.data.AUTOTUNE)\n",
    "valid_ds = tf.data.Dataset.from_tensor_slices((val_features, val_targets)).batch(32).cache().prefetch(tf.data.AUTOTUNE)"
   ]
  },
  {
   "attachments": {},
   "cell_type": "markdown",
   "metadata": {},
   "source": [
    "#### Building Model"
   ]
  },
  {
   "cell_type": "code",
   "execution_count": 15,
   "metadata": {},
   "outputs": [],
   "source": [
    "net = tf.keras.applications.EfficientNetB0(include_top = False)\n",
    "net.trainable = False\n",
    "\n",
    "efficient_net_model = tf.keras.Sequential([\n",
    "    tf.keras.layers.Rescaling(255.0),\n",
    "    tf.keras.layers.TimeDistributed(net),\n",
    "    tf.keras.layers.Dense(5),\n",
    "    tf.keras.layers.GlobalAveragePooling3D()\n",
    "])\n",
    "\n",
    "efficient_net_model.compile(optimizer = 'adam',\n",
    "              loss=tf.keras.losses.SparseCategoricalCrossentropy(from_logits = True),\n",
    "              metrics=['accuracy'])\n"
   ]
  },
  {
   "attachments": {},
   "cell_type": "markdown",
   "metadata": {},
   "source": [
    "#### Train Model using EarlyStopping"
   ]
  },
  {
   "cell_type": "code",
   "execution_count": 16,
   "metadata": {},
   "outputs": [
    {
     "name": "stdout",
     "output_type": "stream",
     "text": [
      "Epoch 1/10\n",
      "17/17 [==============================] - 176s 10s/step - loss: 1.1211 - accuracy: 0.6718 - val_loss: 0.6910 - val_accuracy: 0.8760\n",
      "Epoch 2/10\n",
      "17/17 [==============================] - 161s 10s/step - loss: 0.4671 - accuracy: 0.9631 - val_loss: 0.3841 - val_accuracy: 0.9690\n",
      "Epoch 3/10\n",
      "17/17 [==============================] - 162s 10s/step - loss: 0.2751 - accuracy: 0.9864 - val_loss: 0.2720 - val_accuracy: 0.9690\n",
      "Epoch 4/10\n",
      "17/17 [==============================] - 184s 11s/step - loss: 0.1947 - accuracy: 0.9903 - val_loss: 0.2156 - val_accuracy: 0.9845\n",
      "Epoch 5/10\n",
      "17/17 [==============================] - 277s 17s/step - loss: 0.1517 - accuracy: 0.9942 - val_loss: 0.1821 - val_accuracy: 0.9845\n",
      "Epoch 6/10\n",
      "17/17 [==============================] - 163s 10s/step - loss: 0.1250 - accuracy: 0.9922 - val_loss: 0.1573 - val_accuracy: 0.9845\n",
      "Epoch 7/10\n",
      "17/17 [==============================] - 166s 10s/step - loss: 0.1049 - accuracy: 0.9942 - val_loss: 0.1388 - val_accuracy: 0.9845\n",
      "Epoch 8/10\n",
      "17/17 [==============================] - 185s 11s/step - loss: 0.0897 - accuracy: 0.9961 - val_loss: 0.1253 - val_accuracy: 0.9845\n",
      "Epoch 9/10\n",
      "17/17 [==============================] - 168s 10s/step - loss: 0.0788 - accuracy: 0.9942 - val_loss: 0.1134 - val_accuracy: 0.9845\n",
      "Epoch 10/10\n",
      "17/17 [==============================] - 188s 11s/step - loss: 0.0698 - accuracy: 0.9961 - val_loss: 0.1045 - val_accuracy: 0.9845\n"
     ]
    }
   ],
   "source": [
    "history = efficient_net_model.fit(\n",
    "    train_ds,\n",
    "    epochs = 10,\n",
    "    validation_data=valid_ds,\n",
    "    callbacks = [\n",
    "        tf.keras.callbacks.EarlyStopping(patience = 2, monitor = 'val_loss'),\n",
    "        tf.keras.callbacks.ModelCheckpoint(\n",
    "            \"efficient_net_model.h5\", \n",
    "            monitor=\"val_accuracy\",\n",
    "            mode=\"max\",\n",
    "            save_best_only=True,\n",
    "            save_weights_only=True\n",
    "        )\n",
    "    ]\n",
    ")"
   ]
  },
  {
   "attachments": {},
   "cell_type": "markdown",
   "metadata": {},
   "source": [
    "#### Validation Loss and Accuracy"
   ]
  },
  {
   "cell_type": "code",
   "execution_count": 17,
   "metadata": {},
   "outputs": [
    {
     "data": {
      "image/png": "[encoded data removed]",
      "text/plain": [
       "<Figure size 640x480 with 1 Axes>"
      ]
     },
     "metadata": {},
     "output_type": "display_data"
    },
    {
     "data": {
      "image/png": "[encoded data removed]",
      "text/plain": [
       "<Figure size 640x480 with 1 Axes>"
      ]
     },
     "metadata": {},
     "output_type": "display_data"
    },
    {
     "name": "stdout",
     "output_type": "stream",
     "text": [
      "5/5 [==============================] - 32s 6s/step - loss: 0.1045 - accuracy: 0.9845\n",
      "Validation Loss:0.10448019951581955 Validation Accuracy:0.9844961166381836\n"
     ]
    }
   ],
   "source": [
    "for metrics in [(\"loss\", \"val_loss\"), (\"accuracy\", \"val_accuracy\")]:\n",
    "    pd.DataFrame(history.history, columns=metrics).plot()\n",
    "    plt.show()\n",
    "\n",
    "val_loss, val_acc = efficient_net_model.evaluate(valid_ds)\n",
    "print(f\"Validation Loss:{val_loss} Validation Accuracy:{val_acc}\")"
   ]
  },
  {
   "attachments": {},
   "cell_type": "markdown",
   "metadata": {},
   "source": [
    "---"
   ]
  },
  {
   "attachments": {},
   "cell_type": "markdown",
   "metadata": {},
   "source": [
    "### Conclusion"
   ]
  },
  {
   "attachments": {},
   "cell_type": "markdown",
   "metadata": {},
   "source": [
    "In this notebook, two types of video analysis models have been implemented:\n",
    "* CNN + LSTM (ConvLSTM2D)\n",
    "* EfficientNet\n",
    "\n",
    "The EfficientNet model architecture is particularly useful when working with a small training sample size as it can enhance the accuracy of video classification models.\n",
    "\n",
    "By leveraging these two architectures, the notebook aims to provide powerful tools for analyzing and classifying videos."
   ]
  }
 ],
 "metadata": {
  "kernelspec": {
   "display_name": "Python 3",
   "language": "python",
   "name": "python3"
  },
  "language_info": {
   "codemirror_mode": {
    "name": "ipython",
    "version": 3
   },
   "file_extension": ".py",
   "mimetype": "text/x-python",
   "name": "python",
   "nbconvert_exporter": "python",
   "pygments_lexer": "ipython3",
   "version": "3.11.4"
  },
  "orig_nbformat": 4
 },
 "nbformat": 4,
 "nbformat_minor": 2
}
